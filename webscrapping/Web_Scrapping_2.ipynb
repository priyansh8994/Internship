{
 "cells": [
  {
   "cell_type": "code",
   "execution_count": 184,
   "id": "6db494da",
   "metadata": {},
   "outputs": [
    {
     "name": "stdout",
     "output_type": "stream",
     "text": [
      "Requirement already satisfied: selenium in c:\\users\\hp\\anaconda3\\lib\\site-packages (4.9.0)\n",
      "Requirement already satisfied: trio~=0.17 in c:\\users\\hp\\anaconda3\\lib\\site-packages (from selenium) (0.22.0)\n",
      "Requirement already satisfied: trio-websocket~=0.9 in c:\\users\\hp\\anaconda3\\lib\\site-packages (from selenium) (0.10.2)\n",
      "Requirement already satisfied: urllib3[socks]~=1.26 in c:\\users\\hp\\anaconda3\\lib\\site-packages (from selenium) (1.26.11)\n",
      "Requirement already satisfied: certifi>=2021.10.8 in c:\\users\\hp\\anaconda3\\lib\\site-packages (from selenium) (2022.9.14)\n",
      "Requirement already satisfied: attrs>=19.2.0 in c:\\users\\hp\\anaconda3\\lib\\site-packages (from trio~=0.17->selenium) (21.4.0)\n",
      "Requirement already satisfied: sortedcontainers in c:\\users\\hp\\anaconda3\\lib\\site-packages (from trio~=0.17->selenium) (2.4.0)\n",
      "Requirement already satisfied: sniffio in c:\\users\\hp\\anaconda3\\lib\\site-packages (from trio~=0.17->selenium) (1.2.0)\n",
      "Requirement already satisfied: cffi>=1.14 in c:\\users\\hp\\anaconda3\\lib\\site-packages (from trio~=0.17->selenium) (1.15.1)\n",
      "Requirement already satisfied: idna in c:\\users\\hp\\anaconda3\\lib\\site-packages (from trio~=0.17->selenium) (3.3)\n",
      "Requirement already satisfied: async-generator>=1.9 in c:\\users\\hp\\anaconda3\\lib\\site-packages (from trio~=0.17->selenium) (1.10)\n",
      "Requirement already satisfied: exceptiongroup>=1.0.0rc9 in c:\\users\\hp\\anaconda3\\lib\\site-packages (from trio~=0.17->selenium) (1.1.1)\n",
      "Requirement already satisfied: outcome in c:\\users\\hp\\anaconda3\\lib\\site-packages (from trio~=0.17->selenium) (1.2.0)\n",
      "Requirement already satisfied: wsproto>=0.14 in c:\\users\\hp\\anaconda3\\lib\\site-packages (from trio-websocket~=0.9->selenium) (1.2.0)\n",
      "Requirement already satisfied: PySocks!=1.5.7,<2.0,>=1.5.6 in c:\\users\\hp\\anaconda3\\lib\\site-packages (from urllib3[socks]~=1.26->selenium) (1.7.1)\n",
      "Requirement already satisfied: pycparser in c:\\users\\hp\\anaconda3\\lib\\site-packages (from cffi>=1.14->trio~=0.17->selenium) (2.21)\n",
      "Requirement already satisfied: h11<1,>=0.9.0 in c:\\users\\hp\\anaconda3\\lib\\site-packages (from wsproto>=0.14->trio-websocket~=0.9->selenium) (0.14.0)\n"
     ]
    }
   ],
   "source": [
    "!pip install selenium\n"
   ]
  },
  {
   "cell_type": "code",
   "execution_count": 187,
   "id": "06c683da",
   "metadata": {},
   "outputs": [],
   "source": [
    "from selenium.webdriver import Chrome\n"
   ]
  },
  {
   "cell_type": "code",
   "execution_count": 188,
   "id": "8cb30afd",
   "metadata": {},
   "outputs": [],
   "source": [
    "import selenium\n",
    "import pandas as pd\n",
    "from selenium import webdriver\n",
    "import warnings\n",
    "warnings.filterwarnings('ignore')\n",
    "from selenium.common.exceptions import StaleElementReferenceException, NoSuchElementException\n",
    "from selenium.webdriver.common.by import By\n",
    "import time"
   ]
  },
  {
   "cell_type": "code",
   "execution_count": 189,
   "id": "0ba16866",
   "metadata": {},
   "outputs": [],
   "source": [
    "driver=webdriver.Chrome(r\"C:\\Users\\hp\\Desktop\\chromedriver_win32\")"
   ]
  },
  {
   "cell_type": "code",
   "execution_count": null,
   "id": "941431d7",
   "metadata": {},
   "outputs": [],
   "source": []
  },
  {
   "cell_type": "code",
   "execution_count": 88,
   "id": "6bfb1079",
   "metadata": {},
   "outputs": [],
   "source": [
    "driver=webdriver.Chrome(r\"chromedriver.exe\")"
   ]
  },
  {
   "cell_type": "code",
   "execution_count": 89,
   "id": "de470623",
   "metadata": {},
   "outputs": [],
   "source": [
    "driver.get(\"https://www.naukri.com/\")"
   ]
  },
  {
   "cell_type": "code",
   "execution_count": 90,
   "id": "57366e7c",
   "metadata": {},
   "outputs": [],
   "source": [
    "designation=driver.find_element(By.XPATH,\"/html/body/div[1]/div[7]/div/div/div[1]/div/div/div/div[1]/div/input\")\n",
    "designation.send_keys('Data Analyst')"
   ]
  },
  {
   "cell_type": "code",
   "execution_count": 91,
   "id": "13cd9fda",
   "metadata": {},
   "outputs": [],
   "source": [
    "location=driver.find_element(By.XPATH,\"/html/body/div[1]/div[7]/div/div/div[5]/div/div/div/div[1]/div/input\")\n",
    "location.send_keys('Bangalore')"
   ]
  },
  {
   "cell_type": "code",
   "execution_count": 92,
   "id": "b7415fdc",
   "metadata": {},
   "outputs": [],
   "source": [
    "search=driver.find_element(By.XPATH,\"/html/body/div[1]/div[7]/div/div/div[6]\")\n",
    "search.click()"
   ]
  },
  {
   "cell_type": "code",
   "execution_count": 93,
   "id": "0204d046",
   "metadata": {},
   "outputs": [],
   "source": [
    "job_title=[]\n",
    "job_location=[]\n",
    "company_name=[]\n",
    "experience_required=[]\n"
   ]
  },
  {
   "cell_type": "code",
   "execution_count": 96,
   "id": "6d87631c",
   "metadata": {},
   "outputs": [],
   "source": [
    "title_tags=driver.find_elements(By.XPATH,'//a[@class=\"title ellipsis\"]')\n",
    "for i in title_tags[0:10]:\n",
    "    title=i.text\n",
    "    job_title.append(title)\n",
    "    \n",
    "location_tags=driver.find_elements(By.XPATH,'//span[@class=\"ellipsis fleft locWdth\"]') \n",
    "for i in location_tags[0:10]:\n",
    "    location=i.text\n",
    "    job_location.append(location)\n",
    "\n",
    "company_tags=driver.find_elements(By.XPATH,'//a[@class=\"subTitle ellipsis fleft\"]')\n",
    "for i in company_tags[0:10]:\n",
    "    company=i.text\n",
    "    company_name.append(company)\n",
    "    \n",
    "experience_tags=driver.find_elements(By.XPATH,'//span[@class=\"ellipsis fleft expwdth\"]') \n",
    "for i in experience_tags[0:10]:\n",
    "    exp=i.text\n",
    "    experience_required.append(exp)\n",
    "    "
   ]
  },
  {
   "cell_type": "code",
   "execution_count": 97,
   "id": "3d6b822f",
   "metadata": {},
   "outputs": [
    {
     "name": "stdout",
     "output_type": "stream",
     "text": [
      "10 10 10 10\n"
     ]
    }
   ],
   "source": [
    "print(len(job_title),len(job_location),len(company_name),len(experience_required))"
   ]
  },
  {
   "cell_type": "code",
   "execution_count": 98,
   "id": "2f4e8647",
   "metadata": {},
   "outputs": [
    {
     "data": {
      "text/html": [
       "<div>\n",
       "<style scoped>\n",
       "    .dataframe tbody tr th:only-of-type {\n",
       "        vertical-align: middle;\n",
       "    }\n",
       "\n",
       "    .dataframe tbody tr th {\n",
       "        vertical-align: top;\n",
       "    }\n",
       "\n",
       "    .dataframe thead th {\n",
       "        text-align: right;\n",
       "    }\n",
       "</style>\n",
       "<table border=\"1\" class=\"dataframe\">\n",
       "  <thead>\n",
       "    <tr style=\"text-align: right;\">\n",
       "      <th></th>\n",
       "      <th>Title</th>\n",
       "      <th>location</th>\n",
       "      <th>company_name</th>\n",
       "      <th>Experience</th>\n",
       "    </tr>\n",
       "  </thead>\n",
       "  <tbody>\n",
       "    <tr>\n",
       "      <th>0</th>\n",
       "      <td>Data Analyst</td>\n",
       "      <td>Bangalore/Bengaluru</td>\n",
       "      <td>Diverse Lynx</td>\n",
       "      <td>1-5 Yrs</td>\n",
       "    </tr>\n",
       "    <tr>\n",
       "      <th>1</th>\n",
       "      <td>Banking Data Analyst</td>\n",
       "      <td>Bangalore/Bengaluru, Hyderabad/Secunderabad, G...</td>\n",
       "      <td>Coforge</td>\n",
       "      <td>5-10 Yrs</td>\n",
       "    </tr>\n",
       "    <tr>\n",
       "      <th>2</th>\n",
       "      <td>Data Analyst</td>\n",
       "      <td>Bangalore/Bengaluru</td>\n",
       "      <td>Dpdzero</td>\n",
       "      <td>1-3 Yrs</td>\n",
       "    </tr>\n",
       "    <tr>\n",
       "      <th>3</th>\n",
       "      <td>Data Analyst - IIT/BITS/Startups</td>\n",
       "      <td>Bangalore/Bengaluru</td>\n",
       "      <td>AVE Promagne</td>\n",
       "      <td>1-5 Yrs</td>\n",
       "    </tr>\n",
       "    <tr>\n",
       "      <th>4</th>\n",
       "      <td>Data Analyst - FinTech</td>\n",
       "      <td>Bangalore/Bengaluru, Mumbai, Hyderabad/Secunde...</td>\n",
       "      <td>Primo Hiring</td>\n",
       "      <td>1-2 Yrs</td>\n",
       "    </tr>\n",
       "    <tr>\n",
       "      <th>5</th>\n",
       "      <td>Data Analyst - FinTech</td>\n",
       "      <td>Bangalore/Bengaluru, Kolkata, Mumbai, Hyderaba...</td>\n",
       "      <td>Primo Hiring</td>\n",
       "      <td>1-2 Yrs</td>\n",
       "    </tr>\n",
       "    <tr>\n",
       "      <th>6</th>\n",
       "      <td>Data Analyst - FinTech</td>\n",
       "      <td>Bangalore/Bengaluru, Kolkata, Mumbai, Hyderaba...</td>\n",
       "      <td>Primo Hiring</td>\n",
       "      <td>1-2 Yrs</td>\n",
       "    </tr>\n",
       "    <tr>\n",
       "      <th>7</th>\n",
       "      <td>Data Analyst - IIT/BITS/Startups</td>\n",
       "      <td>Bangalore/Bengaluru</td>\n",
       "      <td>AVE Promagne</td>\n",
       "      <td>1-5 Yrs</td>\n",
       "    </tr>\n",
       "    <tr>\n",
       "      <th>8</th>\n",
       "      <td>Data Analyst</td>\n",
       "      <td>Bangalore/Bengaluru</td>\n",
       "      <td>Diverse Lynx</td>\n",
       "      <td>5-7 Yrs</td>\n",
       "    </tr>\n",
       "    <tr>\n",
       "      <th>9</th>\n",
       "      <td>Data Analyst</td>\n",
       "      <td>Bangalore/Bengaluru</td>\n",
       "      <td>Laundryheap Limited</td>\n",
       "      <td>6-8 Yrs</td>\n",
       "    </tr>\n",
       "  </tbody>\n",
       "</table>\n",
       "</div>"
      ],
      "text/plain": [
       "                              Title  \\\n",
       "0                      Data Analyst   \n",
       "1              Banking Data Analyst   \n",
       "2                      Data Analyst   \n",
       "3  Data Analyst - IIT/BITS/Startups   \n",
       "4            Data Analyst - FinTech   \n",
       "5            Data Analyst - FinTech   \n",
       "6            Data Analyst - FinTech   \n",
       "7  Data Analyst - IIT/BITS/Startups   \n",
       "8                      Data Analyst   \n",
       "9                      Data Analyst   \n",
       "\n",
       "                                            location         company_name  \\\n",
       "0                                Bangalore/Bengaluru         Diverse Lynx   \n",
       "1  Bangalore/Bengaluru, Hyderabad/Secunderabad, G...              Coforge   \n",
       "2                                Bangalore/Bengaluru              Dpdzero   \n",
       "3                                Bangalore/Bengaluru         AVE Promagne   \n",
       "4  Bangalore/Bengaluru, Mumbai, Hyderabad/Secunde...         Primo Hiring   \n",
       "5  Bangalore/Bengaluru, Kolkata, Mumbai, Hyderaba...         Primo Hiring   \n",
       "6  Bangalore/Bengaluru, Kolkata, Mumbai, Hyderaba...         Primo Hiring   \n",
       "7                                Bangalore/Bengaluru         AVE Promagne   \n",
       "8                                Bangalore/Bengaluru         Diverse Lynx   \n",
       "9                                Bangalore/Bengaluru  Laundryheap Limited   \n",
       "\n",
       "  Experience  \n",
       "0    1-5 Yrs  \n",
       "1   5-10 Yrs  \n",
       "2    1-3 Yrs  \n",
       "3    1-5 Yrs  \n",
       "4    1-2 Yrs  \n",
       "5    1-2 Yrs  \n",
       "6    1-2 Yrs  \n",
       "7    1-5 Yrs  \n",
       "8    5-7 Yrs  \n",
       "9    6-8 Yrs  "
      ]
     },
     "execution_count": 98,
     "metadata": {},
     "output_type": "execute_result"
    }
   ],
   "source": [
    "import pandas as pd\n",
    "df=pd.DataFrame({'Title':job_title,'location':job_location,'company_name':company_name,'Experience':experience_required})\n",
    "df"
   ]
  },
  {
   "cell_type": "code",
   "execution_count": 99,
   "id": "a9d39e01",
   "metadata": {},
   "outputs": [],
   "source": [
    "# Answer number 2\n",
    "driver=webdriver.Chrome(r\"C:\\Users\\hp\\Desktop\\chromedriver_win32\")"
   ]
  },
  {
   "cell_type": "code",
   "execution_count": null,
   "id": "e1fc6d7d",
   "metadata": {},
   "outputs": [],
   "source": [
    "driver=webdriver.Chrome(r\"chromedriver.exe\")"
   ]
  },
  {
   "cell_type": "code",
   "execution_count": 100,
   "id": "1610f3c2",
   "metadata": {},
   "outputs": [],
   "source": [
    "driver.get(\"https://www.naukri.com/\")"
   ]
  },
  {
   "cell_type": "code",
   "execution_count": 101,
   "id": "362f57fe",
   "metadata": {},
   "outputs": [],
   "source": [
    "designation=driver.find_element(By.XPATH,\"/html/body/div[1]/div[7]/div/div/div[1]/div/div/div/div[1]/div/input\")\n",
    "designation.send_keys('Data Scientist')"
   ]
  },
  {
   "cell_type": "code",
   "execution_count": 102,
   "id": "5eaa50a3",
   "metadata": {},
   "outputs": [],
   "source": [
    "location=driver.find_element(By.XPATH,\"/html/body/div[1]/div[7]/div/div/div[5]/div/div/div/div[1]/div/input\")\n",
    "location.send_keys('Bangalore')"
   ]
  },
  {
   "cell_type": "code",
   "execution_count": 103,
   "id": "20afa188",
   "metadata": {},
   "outputs": [],
   "source": [
    "search=driver.find_element(By.XPATH,\"/html/body/div[1]/div[7]/div/div/div[6]\")\n",
    "search.click()"
   ]
  },
  {
   "cell_type": "code",
   "execution_count": 104,
   "id": "b8421c5d",
   "metadata": {},
   "outputs": [],
   "source": [
    "job_title=[]\n",
    "job_location=[]\n",
    "company_name=[]\n",
    "experience_required=[]"
   ]
  },
  {
   "cell_type": "code",
   "execution_count": 105,
   "id": "b8e47d57",
   "metadata": {},
   "outputs": [],
   "source": [
    "title_tags=driver.find_elements(By.XPATH,'//a[@class=\"title ellipsis\"]')\n",
    "for i in title_tags[0:10]:\n",
    "    title=i.text\n",
    "    job_title.append(title)\n",
    "    \n",
    "location_tags=driver.find_elements(By.XPATH,'//span[@class=\"ellipsis fleft locWdth\"]') \n",
    "for i in location_tags[0:10]:\n",
    "    location=i.text\n",
    "    job_location.append(location)\n",
    "\n",
    "company_tags=driver.find_elements(By.XPATH,'//a[@class=\"subTitle ellipsis fleft\"]')\n",
    "for i in company_tags[0:10]:\n",
    "    company=i.text\n",
    "    company_name.append(company)\n",
    "    \n",
    "experience_tags=driver.find_elements(By.XPATH,'//span[@class=\"ellipsis fleft expwdth\"]') \n",
    "for i in experience_tags[0:10]:\n",
    "     exp=i.tex\n",
    "    experience_required.append(exp)"
   ]
  },
  {
   "cell_type": "code",
   "execution_count": 106,
   "id": "c5c0f6a1",
   "metadata": {},
   "outputs": [
    {
     "name": "stdout",
     "output_type": "stream",
     "text": [
      "10 10 10 10\n"
     ]
    }
   ],
   "source": [
    "print(len(job_title),len(job_location),len(company_name),len(experience_required))"
   ]
  },
  {
   "cell_type": "code",
   "execution_count": 107,
   "id": "08ad6b02",
   "metadata": {},
   "outputs": [
    {
     "data": {
      "text/html": [
       "<div>\n",
       "<style scoped>\n",
       "    .dataframe tbody tr th:only-of-type {\n",
       "        vertical-align: middle;\n",
       "    }\n",
       "\n",
       "    .dataframe tbody tr th {\n",
       "        vertical-align: top;\n",
       "    }\n",
       "\n",
       "    .dataframe thead th {\n",
       "        text-align: right;\n",
       "    }\n",
       "</style>\n",
       "<table border=\"1\" class=\"dataframe\">\n",
       "  <thead>\n",
       "    <tr style=\"text-align: right;\">\n",
       "      <th></th>\n",
       "      <th>Title</th>\n",
       "      <th>location</th>\n",
       "      <th>company_name</th>\n",
       "      <th>Experience</th>\n",
       "    </tr>\n",
       "  </thead>\n",
       "  <tbody>\n",
       "    <tr>\n",
       "      <th>0</th>\n",
       "      <td>Data Scientist</td>\n",
       "      <td>Hybrid - Bangalore/Bengaluru, Pune, Delhi / NC...</td>\n",
       "      <td>Infogain</td>\n",
       "      <td>3-6 Yrs</td>\n",
       "    </tr>\n",
       "    <tr>\n",
       "      <th>1</th>\n",
       "      <td>Manager, Data Solution Specialist</td>\n",
       "      <td>Bangalore/Bengaluru, Mumbai, New Delhi</td>\n",
       "      <td>Pfizer</td>\n",
       "      <td>3-5 Yrs</td>\n",
       "    </tr>\n",
       "    <tr>\n",
       "      <th>2</th>\n",
       "      <td>Data Scientist_NLP</td>\n",
       "      <td>Bangalore/Bengaluru, Mumbai, Pune, Chennai, Gu...</td>\n",
       "      <td>Fractal Analytics</td>\n",
       "      <td>5-11 Yrs</td>\n",
       "    </tr>\n",
       "    <tr>\n",
       "      <th>3</th>\n",
       "      <td>Machine Learning (AI) Architect</td>\n",
       "      <td>Bangalore/Bengaluru, Kolkata, Mumbai, New Delh...</td>\n",
       "      <td>Persistent</td>\n",
       "      <td>5-12 Yrs</td>\n",
       "    </tr>\n",
       "    <tr>\n",
       "      <th>4</th>\n",
       "      <td>Artificial Intelligence Senior Analyst-Intelli...</td>\n",
       "      <td>Bangalore/Bengaluru</td>\n",
       "      <td>Accenture</td>\n",
       "      <td>5-8 Yrs</td>\n",
       "    </tr>\n",
       "    <tr>\n",
       "      <th>5</th>\n",
       "      <td>Data Scientist I</td>\n",
       "      <td>Bangalore/Bengaluru</td>\n",
       "      <td>Philips</td>\n",
       "      <td>5-7 Yrs</td>\n",
       "    </tr>\n",
       "    <tr>\n",
       "      <th>6</th>\n",
       "      <td>Data Science Senior Analyst</td>\n",
       "      <td>Bangalore/Bengaluru</td>\n",
       "      <td>Accenture</td>\n",
       "      <td>5-8 Yrs</td>\n",
       "    </tr>\n",
       "    <tr>\n",
       "      <th>7</th>\n",
       "      <td>Research Scientist</td>\n",
       "      <td>Bangalore/Bengaluru</td>\n",
       "      <td>Siemens</td>\n",
       "      <td>2-5 Yrs</td>\n",
       "    </tr>\n",
       "    <tr>\n",
       "      <th>8</th>\n",
       "      <td>Data Scientist</td>\n",
       "      <td>Bangalore/Bengaluru, Kolkata, Mumbai, Hyderaba...</td>\n",
       "      <td>HR Remedy India</td>\n",
       "      <td>3-8 Yrs</td>\n",
       "    </tr>\n",
       "    <tr>\n",
       "      <th>9</th>\n",
       "      <td>Permanent Opportunity For Data scientist with AWS</td>\n",
       "      <td>Hybrid - Bangalore/Bengaluru, Chennai, Coimbat...</td>\n",
       "      <td>Deloitte</td>\n",
       "      <td>3-8 Yrs</td>\n",
       "    </tr>\n",
       "  </tbody>\n",
       "</table>\n",
       "</div>"
      ],
      "text/plain": [
       "                                               Title  \\\n",
       "0                                     Data Scientist   \n",
       "1                  Manager, Data Solution Specialist   \n",
       "2                                 Data Scientist_NLP   \n",
       "3                    Machine Learning (AI) Architect   \n",
       "4  Artificial Intelligence Senior Analyst-Intelli...   \n",
       "5                                   Data Scientist I   \n",
       "6                        Data Science Senior Analyst   \n",
       "7                                 Research Scientist   \n",
       "8                                     Data Scientist   \n",
       "9  Permanent Opportunity For Data scientist with AWS   \n",
       "\n",
       "                                            location       company_name  \\\n",
       "0  Hybrid - Bangalore/Bengaluru, Pune, Delhi / NC...           Infogain   \n",
       "1             Bangalore/Bengaluru, Mumbai, New Delhi             Pfizer   \n",
       "2  Bangalore/Bengaluru, Mumbai, Pune, Chennai, Gu...  Fractal Analytics   \n",
       "3  Bangalore/Bengaluru, Kolkata, Mumbai, New Delh...         Persistent   \n",
       "4                                Bangalore/Bengaluru          Accenture   \n",
       "5                                Bangalore/Bengaluru            Philips   \n",
       "6                                Bangalore/Bengaluru          Accenture   \n",
       "7                                Bangalore/Bengaluru            Siemens   \n",
       "8  Bangalore/Bengaluru, Kolkata, Mumbai, Hyderaba...    HR Remedy India   \n",
       "9  Hybrid - Bangalore/Bengaluru, Chennai, Coimbat...           Deloitte   \n",
       "\n",
       "  Experience  \n",
       "0    3-6 Yrs  \n",
       "1    3-5 Yrs  \n",
       "2   5-11 Yrs  \n",
       "3   5-12 Yrs  \n",
       "4    5-8 Yrs  \n",
       "5    5-7 Yrs  \n",
       "6    5-8 Yrs  \n",
       "7    2-5 Yrs  \n",
       "8    3-8 Yrs  \n",
       "9    3-8 Yrs  "
      ]
     },
     "execution_count": 107,
     "metadata": {},
     "output_type": "execute_result"
    }
   ],
   "source": [
    "import pandas as pd\n",
    "df=pd.DataFrame({'Title':job_title,'location':job_location,'company_name':company_name,'Experience':experience_required})\n",
    "df"
   ]
  },
  {
   "cell_type": "code",
   "execution_count": 123,
   "id": "cc53dffa",
   "metadata": {},
   "outputs": [],
   "source": [
    "#Answer number 3\n",
    "driver=webdriver.Chrome(r\"C:\\Users\\hp\\Desktop\\chromedriver_win32\")"
   ]
  },
  {
   "cell_type": "code",
   "execution_count": 124,
   "id": "5714bb54",
   "metadata": {},
   "outputs": [],
   "source": [
    "driver=webdriver.Chrome(r\"chromedriver.exe\")"
   ]
  },
  {
   "cell_type": "code",
   "execution_count": 125,
   "id": "d17d628a",
   "metadata": {},
   "outputs": [],
   "source": [
    "driver.get(\"https://www.naukri.com/\")"
   ]
  },
  {
   "cell_type": "code",
   "execution_count": 126,
   "id": "3094a08a",
   "metadata": {},
   "outputs": [],
   "source": [
    "designation=driver.find_element(By.XPATH,\"/html/body/div[1]/div[7]/div/div/div[1]/div/div/div/div[1]/div/input\")\n",
    "designation.send_keys('Data Scientist')"
   ]
  },
  {
   "cell_type": "code",
   "execution_count": 127,
   "id": "a39a5bb4",
   "metadata": {},
   "outputs": [],
   "source": [
    "location=driver.find_element(By.XPATH,\"/html/body/div[1]/div[7]/div/div/div[5]/div/div/div/div[1]/div/input\")\n",
    "location.send_keys('Delhi/NCR')"
   ]
  },
  {
   "cell_type": "code",
   "execution_count": 128,
   "id": "6d7ccae4",
   "metadata": {},
   "outputs": [],
   "source": [
    "search=driver.find_element(By.XPATH,\"/html/body/div[1]/div[7]/div/div/div[6]\")\n",
    "search.click()"
   ]
  },
  {
   "cell_type": "code",
   "execution_count": 129,
   "id": "4987a5a4",
   "metadata": {},
   "outputs": [],
   "source": [
    "job_title=[]\n",
    "job_location=[]\n",
    "company_name=[]\n",
    "experience_required=[]"
   ]
  },
  {
   "cell_type": "code",
   "execution_count": 133,
   "id": "ac24c66a",
   "metadata": {},
   "outputs": [],
   "source": [
    "title_tags=driver.find_elements(By.XPATH,'//a[@class=\"title ellipsis\"]')\n",
    "for i in title_tags[0:10]:\n",
    "    title=i.text\n",
    "    job_title.append(title)\n",
    "    \n",
    "location_tags=driver.find_elements(By.XPATH,'//span[@class=\"ellipsis fleft locWdth\"]') \n",
    "for i in location_tags[0:10]:\n",
    "    location=i.text\n",
    "    job_location.append(location)\n",
    "\n",
    "company_tags=driver.find_elements(By.XPATH,'//a[@class=\"subTitle ellipsis fleft\"]')\n",
    "for i in company_tags[0:10]:\n",
    "    company=i.text\n",
    "    company_name.append(company)\n",
    "    \n",
    "experience_tags=driver.find_elements(By.XPATH,'//span[@class=\"ellipsis fleft expwdth\"]') \n",
    "for i in experience_tags[0:10]:\n",
    "    exp=i.text\n",
    "    experience_required.append(exp)"
   ]
  },
  {
   "cell_type": "code",
   "execution_count": 134,
   "id": "53d52211",
   "metadata": {},
   "outputs": [
    {
     "name": "stdout",
     "output_type": "stream",
     "text": [
      "10 10 10 10\n"
     ]
    }
   ],
   "source": [
    "print(len(job_title),len(job_location),len(company_name),len(experience_required))"
   ]
  },
  {
   "cell_type": "code",
   "execution_count": 135,
   "id": "83f35815",
   "metadata": {},
   "outputs": [
    {
     "data": {
      "text/html": [
       "<div>\n",
       "<style scoped>\n",
       "    .dataframe tbody tr th:only-of-type {\n",
       "        vertical-align: middle;\n",
       "    }\n",
       "\n",
       "    .dataframe tbody tr th {\n",
       "        vertical-align: top;\n",
       "    }\n",
       "\n",
       "    .dataframe thead th {\n",
       "        text-align: right;\n",
       "    }\n",
       "</style>\n",
       "<table border=\"1\" class=\"dataframe\">\n",
       "  <thead>\n",
       "    <tr style=\"text-align: right;\">\n",
       "      <th></th>\n",
       "      <th>Title</th>\n",
       "      <th>location</th>\n",
       "      <th>company_name</th>\n",
       "      <th>Experience</th>\n",
       "    </tr>\n",
       "  </thead>\n",
       "  <tbody>\n",
       "    <tr>\n",
       "      <th>0</th>\n",
       "      <td>Data Scientist</td>\n",
       "      <td>Hybrid - Delhi / NCR, Pune, Bangalore/Bengalur...</td>\n",
       "      <td>Infogain</td>\n",
       "      <td>3-6 Yrs</td>\n",
       "    </tr>\n",
       "    <tr>\n",
       "      <th>1</th>\n",
       "      <td>Manager, Data Solution Specialist</td>\n",
       "      <td>Mumbai, New Delhi, Bangalore/Bengaluru</td>\n",
       "      <td>Pfizer</td>\n",
       "      <td>3-5 Yrs</td>\n",
       "    </tr>\n",
       "    <tr>\n",
       "      <th>2</th>\n",
       "      <td>Data Scientist_NLP</td>\n",
       "      <td>Mumbai, Pune, Chennai, Gurgaon/Gurugram, Banga...</td>\n",
       "      <td>Fractal Analytics</td>\n",
       "      <td>5-11 Yrs</td>\n",
       "    </tr>\n",
       "    <tr>\n",
       "      <th>3</th>\n",
       "      <td>Machine Learning (AI) Architect</td>\n",
       "      <td>Kolkata, Mumbai, New Delhi, Hyderabad/Secunder...</td>\n",
       "      <td>Persistent</td>\n",
       "      <td>5-12 Yrs</td>\n",
       "    </tr>\n",
       "    <tr>\n",
       "      <th>4</th>\n",
       "      <td>Data Scientist</td>\n",
       "      <td>Delhi / NCR, Kolkata, Mumbai, Hyderabad/Secund...</td>\n",
       "      <td>HR Remedy India</td>\n",
       "      <td>3-8 Yrs</td>\n",
       "    </tr>\n",
       "    <tr>\n",
       "      <th>5</th>\n",
       "      <td>Data Scientist_NLP</td>\n",
       "      <td>Mumbai, Pune, Chennai, Gurgaon/Gurugram, Banga...</td>\n",
       "      <td>Neal Analytics</td>\n",
       "      <td>5-11 Yrs</td>\n",
       "    </tr>\n",
       "    <tr>\n",
       "      <th>6</th>\n",
       "      <td>Opportunity | Data Scientist | Tavant India</td>\n",
       "      <td>Noida, Kolkata, Hyderabad/Secunderabad, Bangal...</td>\n",
       "      <td>Tavant Technologies</td>\n",
       "      <td>6-11 Yrs</td>\n",
       "    </tr>\n",
       "    <tr>\n",
       "      <th>7</th>\n",
       "      <td>Data Scientist with Retail Domain</td>\n",
       "      <td>Delhi / NCR, Kolkata, Mumbai, Nagpur, Hyderaba...</td>\n",
       "      <td>TRH Consultancy Services</td>\n",
       "      <td>4-9 Yrs</td>\n",
       "    </tr>\n",
       "    <tr>\n",
       "      <th>8</th>\n",
       "      <td>Data Scientist</td>\n",
       "      <td>Noida, Kolkata, Mumbai, Hyderabad/Secunderabad...</td>\n",
       "      <td>TRH Consultancy Services</td>\n",
       "      <td>5-10 Yrs</td>\n",
       "    </tr>\n",
       "    <tr>\n",
       "      <th>9</th>\n",
       "      <td>Data Scientist</td>\n",
       "      <td>Delhi / NCR, Noida, Kolkata, Mumbai, Hyderabad...</td>\n",
       "      <td>TRH Consultancy Services</td>\n",
       "      <td>5-10 Yrs</td>\n",
       "    </tr>\n",
       "  </tbody>\n",
       "</table>\n",
       "</div>"
      ],
      "text/plain": [
       "                                         Title  \\\n",
       "0                               Data Scientist   \n",
       "1            Manager, Data Solution Specialist   \n",
       "2                           Data Scientist_NLP   \n",
       "3              Machine Learning (AI) Architect   \n",
       "4                               Data Scientist   \n",
       "5                           Data Scientist_NLP   \n",
       "6  Opportunity | Data Scientist | Tavant India   \n",
       "7            Data Scientist with Retail Domain   \n",
       "8                               Data Scientist   \n",
       "9                               Data Scientist   \n",
       "\n",
       "                                            location  \\\n",
       "0  Hybrid - Delhi / NCR, Pune, Bangalore/Bengalur...   \n",
       "1             Mumbai, New Delhi, Bangalore/Bengaluru   \n",
       "2  Mumbai, Pune, Chennai, Gurgaon/Gurugram, Banga...   \n",
       "3  Kolkata, Mumbai, New Delhi, Hyderabad/Secunder...   \n",
       "4  Delhi / NCR, Kolkata, Mumbai, Hyderabad/Secund...   \n",
       "5  Mumbai, Pune, Chennai, Gurgaon/Gurugram, Banga...   \n",
       "6  Noida, Kolkata, Hyderabad/Secunderabad, Bangal...   \n",
       "7  Delhi / NCR, Kolkata, Mumbai, Nagpur, Hyderaba...   \n",
       "8  Noida, Kolkata, Mumbai, Hyderabad/Secunderabad...   \n",
       "9  Delhi / NCR, Noida, Kolkata, Mumbai, Hyderabad...   \n",
       "\n",
       "               company_name Experience  \n",
       "0                  Infogain    3-6 Yrs  \n",
       "1                    Pfizer    3-5 Yrs  \n",
       "2         Fractal Analytics   5-11 Yrs  \n",
       "3                Persistent   5-12 Yrs  \n",
       "4           HR Remedy India    3-8 Yrs  \n",
       "5            Neal Analytics   5-11 Yrs  \n",
       "6       Tavant Technologies   6-11 Yrs  \n",
       "7  TRH Consultancy Services    4-9 Yrs  \n",
       "8  TRH Consultancy Services   5-10 Yrs  \n",
       "9  TRH Consultancy Services   5-10 Yrs  "
      ]
     },
     "execution_count": 135,
     "metadata": {},
     "output_type": "execute_result"
    }
   ],
   "source": [
    "import pandas as pd\n",
    "df=pd.DataFrame({'Title':job_title,'location':job_location,'company_name':company_name,'Experience':experience_required})\n",
    "df"
   ]
  },
  {
   "cell_type": "code",
   "execution_count": 140,
   "id": "868adf7d",
   "metadata": {},
   "outputs": [],
   "source": [
    "# Answer 4\n",
    "driver=webdriver.Chrome(r\"C:\\Users\\hp\\Desktop\\chromedriver_win32\")"
   ]
  },
  {
   "cell_type": "code",
   "execution_count": 165,
   "id": "9805b4af",
   "metadata": {},
   "outputs": [],
   "source": [
    "url=\"https://www.flipkart.com/\"\n",
    "driver.get(url)"
   ]
  },
  {
   "cell_type": "code",
   "execution_count": 143,
   "id": "4c3ffc62",
   "metadata": {},
   "outputs": [
    {
     "data": {
      "text/plain": [
       "<selenium.webdriver.remote.webelement.WebElement (session=\"da40471be183691cde40d19719580afe\", element=\"54121462F3B7EC79547A54C1DB604F8B_element_85\")>"
      ]
     },
     "execution_count": 143,
     "metadata": {},
     "output_type": "execute_result"
    }
   ],
   "source": [
    "search_g= driver.find_element(By.XPATH,'//input[@class=\"_3704LK\"]')\n",
    "search_g"
   ]
  },
  {
   "cell_type": "code",
   "execution_count": 144,
   "id": "eabe8b0f",
   "metadata": {},
   "outputs": [],
   "source": [
    "search_g.send_keys('sunglasses')"
   ]
  },
  {
   "cell_type": "code",
   "execution_count": 145,
   "id": "5678365d",
   "metadata": {},
   "outputs": [
    {
     "data": {
      "text/plain": [
       "<selenium.webdriver.remote.webelement.WebElement (session=\"da40471be183691cde40d19719580afe\", element=\"54121462F3B7EC79547A54C1DB604F8B_element_118\")>"
      ]
     },
     "execution_count": 145,
     "metadata": {},
     "output_type": "execute_result"
    }
   ],
   "source": [
    "search_btn=driver.find_element(By.XPATH,'//button[@class=\"L0Z3Pu\"]')\n",
    "search_btn"
   ]
  },
  {
   "cell_type": "code",
   "execution_count": 146,
   "id": "dc7c64c0",
   "metadata": {},
   "outputs": [],
   "source": [
    "search_btn=driver.find_element(By.CLASS_NAME,'L0Z3Pu')\n",
    "search_btn.click()"
   ]
  },
  {
   "cell_type": "code",
   "execution_count": 147,
   "id": "3ea71d34",
   "metadata": {},
   "outputs": [],
   "source": [
    "B_name=[]\n",
    "Price=[]\n",
    "P_desc=[]\n",
    "Discount=[]"
   ]
  },
  {
   "cell_type": "code",
   "execution_count": 157,
   "id": "004f5bb4",
   "metadata": {},
   "outputs": [],
   "source": [
    "for i in range(3):\n",
    "    b_name=driver.find_elements(By.XPATH,'//div[@class=\"_2WkVRV\"]')\n",
    "    p_desc=driver.find_elements(By.XPATH,'//a[@class=\"IRpwTa\"]')\n",
    "    price =driver.find_elements(By.XPATH,'//div[@class=\"_30jeq3\"]')\n",
    "    discount=driver.find_elements(By.XPATH,'//div[@class=\"_3Ay6Sb\"]')\n",
    "    \n",
    "    for j  in b_name:\n",
    "        B_name.append(j.text)\n",
    "    B_name[:100]    \n",
    "    \n",
    "    \n",
    "    \n",
    "    for k in p_desc:\n",
    "        P_desc.append(k.text)\n",
    "    P_desc[:100] \n",
    "    \n",
    "    \n",
    "    for l in price:\n",
    "        Price.append(l.text)\n",
    "    Price[:100] \n",
    "    \n",
    "    \n",
    "    for t in discount:\n",
    "        Discount.append(t.text)\n",
    "    Discount[:100]"
   ]
  },
  {
   "cell_type": "code",
   "execution_count": 160,
   "id": "6a1d7aad",
   "metadata": {},
   "outputs": [
    {
     "data": {
      "text/plain": [
       "['VINCENT CHASE',\n",
       " 'Resist',\n",
       " 'TamTam',\n",
       " 'PIRASO',\n",
       " 'PIRASO',\n",
       " 'PIRASO',\n",
       " 'SUNBEE',\n",
       " 'VINCENT CHASE',\n",
       " 'PIRASO',\n",
       " 'Shaah Collection',\n",
       " 'PIRASO',\n",
       " 'iCopertina',\n",
       " 'NuVew',\n",
       " 'Fastrack',\n",
       " 'NuVew',\n",
       " 'AISLIN',\n",
       " 'NuVew',\n",
       " 'GANSTA',\n",
       " 'VINCENT CHASE',\n",
       " 'Singco India',\n",
       " 'Fastrack',\n",
       " 'Singco India',\n",
       " 'Fastrack',\n",
       " 'RESIST EYEWEAR',\n",
       " 'SUNBEE',\n",
       " 'Fastrack',\n",
       " 'DAHAAZIL',\n",
       " 'VINCENT CHASE',\n",
       " 'kingsunglasses',\n",
       " 'SRPM',\n",
       " 'NuVew',\n",
       " 'Resist',\n",
       " 'PIRASO',\n",
       " 'Fastrack',\n",
       " 'METRONAUT',\n",
       " 'POLAROID',\n",
       " 'PIRASO',\n",
       " 'Fastrack',\n",
       " 'MGKNYAH',\n",
       " 'VINCENT CHASE',\n",
       " 'VINCENT CHASE',\n",
       " 'Resist',\n",
       " 'TamTam',\n",
       " 'PIRASO',\n",
       " 'PIRASO',\n",
       " 'PIRASO',\n",
       " 'SUNBEE',\n",
       " 'VINCENT CHASE',\n",
       " 'PIRASO',\n",
       " 'Shaah Collection',\n",
       " 'PIRASO',\n",
       " 'iCopertina',\n",
       " 'NuVew',\n",
       " 'Fastrack',\n",
       " 'NuVew',\n",
       " 'AISLIN',\n",
       " 'NuVew',\n",
       " 'GANSTA',\n",
       " 'VINCENT CHASE',\n",
       " 'Singco India',\n",
       " 'Fastrack',\n",
       " 'Singco India',\n",
       " 'Fastrack',\n",
       " 'RESIST EYEWEAR',\n",
       " 'SUNBEE',\n",
       " 'Fastrack',\n",
       " 'DAHAAZIL',\n",
       " 'VINCENT CHASE',\n",
       " 'kingsunglasses',\n",
       " 'SRPM',\n",
       " 'NuVew',\n",
       " 'Resist',\n",
       " 'PIRASO',\n",
       " 'Fastrack',\n",
       " 'METRONAUT',\n",
       " 'POLAROID',\n",
       " 'PIRASO',\n",
       " 'Fastrack',\n",
       " 'MGKNYAH',\n",
       " 'VINCENT CHASE',\n",
       " 'VINCENT CHASE',\n",
       " 'Resist',\n",
       " 'TamTam',\n",
       " 'PIRASO',\n",
       " 'PIRASO',\n",
       " 'PIRASO',\n",
       " 'SUNBEE',\n",
       " 'VINCENT CHASE',\n",
       " 'PIRASO',\n",
       " 'Shaah Collection',\n",
       " 'PIRASO',\n",
       " 'iCopertina',\n",
       " 'NuVew',\n",
       " 'Fastrack',\n",
       " 'NuVew',\n",
       " 'AISLIN',\n",
       " 'NuVew',\n",
       " 'GANSTA',\n",
       " 'VINCENT CHASE',\n",
       " 'Singco India']"
      ]
     },
     "execution_count": 160,
     "metadata": {},
     "output_type": "execute_result"
    }
   ],
   "source": [
    "B_name[:100]"
   ]
  },
  {
   "cell_type": "code",
   "execution_count": 159,
   "id": "db284684",
   "metadata": {},
   "outputs": [
    {
     "name": "stdout",
     "output_type": "stream",
     "text": [
      "100\n",
      "100\n",
      "100\n",
      "100\n"
     ]
    },
    {
     "data": {
      "text/plain": [
       "(None, None, None, None)"
      ]
     },
     "execution_count": 159,
     "metadata": {},
     "output_type": "execute_result"
    }
   ],
   "source": [
    "print(len(B_name[:100])),print(len(Price[:100])),print(len(P_desc[:100])),print(len(Discount[:100]))"
   ]
  },
  {
   "cell_type": "code",
   "execution_count": 162,
   "id": "13488d6d",
   "metadata": {},
   "outputs": [],
   "source": [
    "sun_gl=pd.DataFrame({})\n",
    "sun_gl['Brand_name']=B_name[:100]\n",
    "sun_gl['P_price']=Price[:100]\n",
    "sun_gl['Pr_desc']=P_desc[:100]\n",
    "sun_gl['P_discount']=Discount[:100]"
   ]
  },
  {
   "cell_type": "code",
   "execution_count": 163,
   "id": "be0f6d44",
   "metadata": {},
   "outputs": [
    {
     "data": {
      "text/html": [
       "<div>\n",
       "<style scoped>\n",
       "    .dataframe tbody tr th:only-of-type {\n",
       "        vertical-align: middle;\n",
       "    }\n",
       "\n",
       "    .dataframe tbody tr th {\n",
       "        vertical-align: top;\n",
       "    }\n",
       "\n",
       "    .dataframe thead th {\n",
       "        text-align: right;\n",
       "    }\n",
       "</style>\n",
       "<table border=\"1\" class=\"dataframe\">\n",
       "  <thead>\n",
       "    <tr style=\"text-align: right;\">\n",
       "      <th></th>\n",
       "      <th>Brand_name</th>\n",
       "      <th>P_price</th>\n",
       "      <th>Pr_desc</th>\n",
       "      <th>P_discount</th>\n",
       "    </tr>\n",
       "  </thead>\n",
       "  <tbody>\n",
       "    <tr>\n",
       "      <th>0</th>\n",
       "      <td>VINCENT CHASE</td>\n",
       "      <td>₹1,049</td>\n",
       "      <td>by Lenskart Polarized, UV Protection Retro Squ...</td>\n",
       "      <td>Hot Deal</td>\n",
       "    </tr>\n",
       "    <tr>\n",
       "      <th>1</th>\n",
       "      <td>Resist</td>\n",
       "      <td>₹1,399</td>\n",
       "      <td>Polarized Wayfarer Sunglasses (Free Size)</td>\n",
       "      <td>Daily Saver</td>\n",
       "    </tr>\n",
       "    <tr>\n",
       "      <th>2</th>\n",
       "      <td>TamTam</td>\n",
       "      <td>₹181</td>\n",
       "      <td>UV Protection Retro Square Sunglasses (Free Size)</td>\n",
       "      <td>Hot Deal</td>\n",
       "    </tr>\n",
       "    <tr>\n",
       "      <th>3</th>\n",
       "      <td>PIRASO</td>\n",
       "      <td>₹224</td>\n",
       "      <td>UV Protection Clubmaster Sunglasses (54)</td>\n",
       "      <td>Hot Deal</td>\n",
       "    </tr>\n",
       "    <tr>\n",
       "      <th>4</th>\n",
       "      <td>PIRASO</td>\n",
       "      <td>₹268</td>\n",
       "      <td>UV Protection Aviator Sunglasses (Free Size)</td>\n",
       "      <td>Hot Deal</td>\n",
       "    </tr>\n",
       "    <tr>\n",
       "      <th>...</th>\n",
       "      <td>...</td>\n",
       "      <td>...</td>\n",
       "      <td>...</td>\n",
       "      <td>...</td>\n",
       "    </tr>\n",
       "    <tr>\n",
       "      <th>95</th>\n",
       "      <td>AISLIN</td>\n",
       "      <td>₹495</td>\n",
       "      <td>UV Protection, Riding Glasses Rectangular Sung...</td>\n",
       "      <td>Hot Deal</td>\n",
       "    </tr>\n",
       "    <tr>\n",
       "      <th>96</th>\n",
       "      <td>NuVew</td>\n",
       "      <td>₹125</td>\n",
       "      <td>UV Protection Wayfarer Sunglasses (Free Size)</td>\n",
       "      <td>47% off</td>\n",
       "    </tr>\n",
       "    <tr>\n",
       "      <th>97</th>\n",
       "      <td>GANSTA</td>\n",
       "      <td>₹292</td>\n",
       "      <td>Riding Glasses, UV Protection Clubmaster, Wayf...</td>\n",
       "      <td>65% off</td>\n",
       "    </tr>\n",
       "    <tr>\n",
       "      <th>98</th>\n",
       "      <td>VINCENT CHASE</td>\n",
       "      <td>₹629</td>\n",
       "      <td>UV Protection Aviator Sunglasses (Free Size)</td>\n",
       "      <td>81% off</td>\n",
       "    </tr>\n",
       "    <tr>\n",
       "      <th>99</th>\n",
       "      <td>Singco India</td>\n",
       "      <td>₹396</td>\n",
       "      <td>Polarized, Riding Glasses, UV Protection Wayfa...</td>\n",
       "      <td>85% off</td>\n",
       "    </tr>\n",
       "  </tbody>\n",
       "</table>\n",
       "<p>100 rows × 4 columns</p>\n",
       "</div>"
      ],
      "text/plain": [
       "       Brand_name P_price                                            Pr_desc  \\\n",
       "0   VINCENT CHASE  ₹1,049  by Lenskart Polarized, UV Protection Retro Squ...   \n",
       "1          Resist  ₹1,399          Polarized Wayfarer Sunglasses (Free Size)   \n",
       "2          TamTam    ₹181  UV Protection Retro Square Sunglasses (Free Size)   \n",
       "3          PIRASO    ₹224           UV Protection Clubmaster Sunglasses (54)   \n",
       "4          PIRASO    ₹268       UV Protection Aviator Sunglasses (Free Size)   \n",
       "..            ...     ...                                                ...   \n",
       "95         AISLIN    ₹495  UV Protection, Riding Glasses Rectangular Sung...   \n",
       "96          NuVew    ₹125      UV Protection Wayfarer Sunglasses (Free Size)   \n",
       "97         GANSTA    ₹292  Riding Glasses, UV Protection Clubmaster, Wayf...   \n",
       "98  VINCENT CHASE    ₹629       UV Protection Aviator Sunglasses (Free Size)   \n",
       "99   Singco India    ₹396  Polarized, Riding Glasses, UV Protection Wayfa...   \n",
       "\n",
       "     P_discount  \n",
       "0      Hot Deal  \n",
       "1   Daily Saver  \n",
       "2      Hot Deal  \n",
       "3      Hot Deal  \n",
       "4      Hot Deal  \n",
       "..          ...  \n",
       "95     Hot Deal  \n",
       "96      47% off  \n",
       "97      65% off  \n",
       "98      81% off  \n",
       "99      85% off  \n",
       "\n",
       "[100 rows x 4 columns]"
      ]
     },
     "execution_count": 163,
     "metadata": {},
     "output_type": "execute_result"
    }
   ],
   "source": [
    "sun_gl"
   ]
  },
  {
   "cell_type": "code",
   "execution_count": 166,
   "id": "f5b510ce",
   "metadata": {},
   "outputs": [],
   "source": [
    "#Answer5\n",
    "driver=webdriver.Chrome(r\"C:\\Users\\hp\\Desktop\\chromedriver_win32\")"
   ]
  },
  {
   "cell_type": "code",
   "execution_count": 167,
   "id": "ba1afb65",
   "metadata": {},
   "outputs": [],
   "source": [
    "url=\"https://www.flipkart.com/\"\n",
    "driver.get(url)"
   ]
  },
  {
   "cell_type": "code",
   "execution_count": 168,
   "id": "9e762429",
   "metadata": {},
   "outputs": [
    {
     "data": {
      "text/plain": [
       "<selenium.webdriver.remote.webelement.WebElement (session=\"49c71383db98dca8b83bc371cedbed51\", element=\"97401662BBDC750CAE8ABC69C1D139AC_element_91\")>"
      ]
     },
     "execution_count": 168,
     "metadata": {},
     "output_type": "execute_result"
    }
   ],
   "source": [
    "search_g= driver.find_element(By.XPATH,'//input[@class=\"_3704LK\"]')\n",
    "search_g"
   ]
  },
  {
   "cell_type": "code",
   "execution_count": 169,
   "id": "65d9599b",
   "metadata": {},
   "outputs": [],
   "source": [
    "search_g.send_keys('sneakers')"
   ]
  },
  {
   "cell_type": "code",
   "execution_count": 170,
   "id": "7b287b20",
   "metadata": {},
   "outputs": [
    {
     "data": {
      "text/plain": [
       "<selenium.webdriver.remote.webelement.WebElement (session=\"49c71383db98dca8b83bc371cedbed51\", element=\"97401662BBDC750CAE8ABC69C1D139AC_element_135\")>"
      ]
     },
     "execution_count": 170,
     "metadata": {},
     "output_type": "execute_result"
    }
   ],
   "source": [
    "search_btn=driver.find_element(By.XPATH,'//button[@class=\"L0Z3Pu\"]')\n",
    "search_btn"
   ]
  },
  {
   "cell_type": "code",
   "execution_count": 171,
   "id": "38d7675e",
   "metadata": {},
   "outputs": [],
   "source": [
    "search_btn=driver.find_element(By.CLASS_NAME,'L0Z3Pu')\n",
    "search_btn.click()"
   ]
  },
  {
   "cell_type": "code",
   "execution_count": 172,
   "id": "8869a54a",
   "metadata": {},
   "outputs": [],
   "source": [
    "B_name=[]\n",
    "Price=[]\n",
    "P_desc=[]\n",
    "Discount=[]"
   ]
  },
  {
   "cell_type": "code",
   "execution_count": 178,
   "id": "506c8668",
   "metadata": {},
   "outputs": [],
   "source": [
    "for i in range(3):\n",
    "    b_name=driver.find_elements(By.XPATH,'//div[@class=\"_2WkVRV\"]')\n",
    "    p_desc=driver.find_elements(By.XPATH,'//a[@class=\"IRpwTa\"]')\n",
    "    price =driver.find_elements(By.XPATH,'//div[@class=\"_30jeq3\"]')\n",
    "    discount=driver.find_elements(By.XPATH,'//div[@class=\"_3Ay6Sb\"]')\n",
    "    \n",
    "    for j  in b_name:\n",
    "        B_name.append(j.text)\n",
    "    B_name[:100]    \n",
    "    \n",
    "    \n",
    "    \n",
    "    for k in p_desc:\n",
    "        P_desc.append(k.text)\n",
    "    P_desc[:100] \n",
    "    \n",
    "    \n",
    "    for l in price:\n",
    "        Price.append(l.text)\n",
    "    Price[:100] \n",
    "    \n",
    "    \n",
    "    for t in discount:\n",
    "        Discount.append(t.text)\n",
    "    Discount[:100]"
   ]
  },
  {
   "cell_type": "code",
   "execution_count": 180,
   "id": "22cee279",
   "metadata": {},
   "outputs": [
    {
     "name": "stdout",
     "output_type": "stream",
     "text": [
      "100\n",
      "100\n",
      "100\n",
      "100\n"
     ]
    },
    {
     "data": {
      "text/plain": [
       "(None, None, None, None)"
      ]
     },
     "execution_count": 180,
     "metadata": {},
     "output_type": "execute_result"
    }
   ],
   "source": [
    "print(len(B_name[:100])),print(len(Price[:100])),print(len(P_desc[:100])),print(len(Discount[:100]))"
   ]
  },
  {
   "cell_type": "code",
   "execution_count": 182,
   "id": "a0c4fe70",
   "metadata": {},
   "outputs": [],
   "source": [
    "sneak=pd.DataFrame({})\n",
    "sneak['Brand_name']=B_name[:100]\n",
    "sneak['P_price']=Price[:100]\n",
    "sneak['Pr_desc']=P_desc[:100]\n",
    "sneak['P_discount']=Discount[:100]"
   ]
  },
  {
   "cell_type": "code",
   "execution_count": 183,
   "id": "b739b7fa",
   "metadata": {},
   "outputs": [
    {
     "data": {
      "text/html": [
       "<div>\n",
       "<style scoped>\n",
       "    .dataframe tbody tr th:only-of-type {\n",
       "        vertical-align: middle;\n",
       "    }\n",
       "\n",
       "    .dataframe tbody tr th {\n",
       "        vertical-align: top;\n",
       "    }\n",
       "\n",
       "    .dataframe thead th {\n",
       "        text-align: right;\n",
       "    }\n",
       "</style>\n",
       "<table border=\"1\" class=\"dataframe\">\n",
       "  <thead>\n",
       "    <tr style=\"text-align: right;\">\n",
       "      <th></th>\n",
       "      <th>Brand_name</th>\n",
       "      <th>P_price</th>\n",
       "      <th>Pr_desc</th>\n",
       "      <th>P_discount</th>\n",
       "    </tr>\n",
       "  </thead>\n",
       "  <tbody>\n",
       "    <tr>\n",
       "      <th>0</th>\n",
       "      <td>Shozie</td>\n",
       "      <td>₹399</td>\n",
       "      <td>Stylish Sneakers Shoes for Women And Girls Sne...</td>\n",
       "      <td>60% off</td>\n",
       "    </tr>\n",
       "    <tr>\n",
       "      <th>1</th>\n",
       "      <td>BIRDE</td>\n",
       "      <td>₹399</td>\n",
       "      <td>Lightweight,Comfort,Summer,Trendy,Walking,Outd...</td>\n",
       "      <td>73% off</td>\n",
       "    </tr>\n",
       "    <tr>\n",
       "      <th>2</th>\n",
       "      <td>BIRDE</td>\n",
       "      <td>₹449</td>\n",
       "      <td>Megpar White New Stylish Look Comfortable Casu...</td>\n",
       "      <td>77% off</td>\n",
       "    </tr>\n",
       "    <tr>\n",
       "      <th>3</th>\n",
       "      <td>Layasa</td>\n",
       "      <td>₹449</td>\n",
       "      <td>Stylish Sneakers Shoes for Women And Girls Sne...</td>\n",
       "      <td>55% off</td>\n",
       "    </tr>\n",
       "    <tr>\n",
       "      <th>4</th>\n",
       "      <td>BIRDE</td>\n",
       "      <td>₹449</td>\n",
       "      <td>Lightweight,Comfort,Summer,Trendy,Walking,Outd...</td>\n",
       "      <td>70% off</td>\n",
       "    </tr>\n",
       "    <tr>\n",
       "      <th>...</th>\n",
       "      <td>...</td>\n",
       "      <td>...</td>\n",
       "      <td>...</td>\n",
       "      <td>...</td>\n",
       "    </tr>\n",
       "    <tr>\n",
       "      <th>95</th>\n",
       "      <td>World Wear Footwear</td>\n",
       "      <td>₹229</td>\n",
       "      <td>Combo Pack of 2 Sports Sneakers For Men</td>\n",
       "      <td>84% off</td>\n",
       "    </tr>\n",
       "    <tr>\n",
       "      <th>96</th>\n",
       "      <td>woox enterprises</td>\n",
       "      <td>₹569</td>\n",
       "      <td>Lightweight,Comfort,Summer,Trendy,Walking,Outd...</td>\n",
       "      <td>43% off</td>\n",
       "    </tr>\n",
       "    <tr>\n",
       "      <th>97</th>\n",
       "      <td>Sparx</td>\n",
       "      <td>₹1,119</td>\n",
       "      <td>Combo Pack Of 2 Casual Shoes Sneakers For Men</td>\n",
       "      <td>20% off</td>\n",
       "    </tr>\n",
       "    <tr>\n",
       "      <th>98</th>\n",
       "      <td>Shozie</td>\n",
       "      <td>₹445</td>\n",
       "      <td>Sneakers For Men</td>\n",
       "      <td>55% off</td>\n",
       "    </tr>\n",
       "    <tr>\n",
       "      <th>99</th>\n",
       "      <td>Labbin</td>\n",
       "      <td>₹379</td>\n",
       "      <td>Sneakers For Women</td>\n",
       "      <td>60% off</td>\n",
       "    </tr>\n",
       "  </tbody>\n",
       "</table>\n",
       "<p>100 rows × 4 columns</p>\n",
       "</div>"
      ],
      "text/plain": [
       "             Brand_name P_price  \\\n",
       "0                Shozie    ₹399   \n",
       "1                 BIRDE    ₹399   \n",
       "2                 BIRDE    ₹449   \n",
       "3                Layasa    ₹449   \n",
       "4                 BIRDE    ₹449   \n",
       "..                  ...     ...   \n",
       "95  World Wear Footwear    ₹229   \n",
       "96     woox enterprises    ₹569   \n",
       "97                Sparx  ₹1,119   \n",
       "98               Shozie    ₹445   \n",
       "99               Labbin    ₹379   \n",
       "\n",
       "                                              Pr_desc P_discount  \n",
       "0   Stylish Sneakers Shoes for Women And Girls Sne...    60% off  \n",
       "1   Lightweight,Comfort,Summer,Trendy,Walking,Outd...    73% off  \n",
       "2   Megpar White New Stylish Look Comfortable Casu...    77% off  \n",
       "3   Stylish Sneakers Shoes for Women And Girls Sne...    55% off  \n",
       "4   Lightweight,Comfort,Summer,Trendy,Walking,Outd...    70% off  \n",
       "..                                                ...        ...  \n",
       "95            Combo Pack of 2 Sports Sneakers For Men    84% off  \n",
       "96  Lightweight,Comfort,Summer,Trendy,Walking,Outd...    43% off  \n",
       "97      Combo Pack Of 2 Casual Shoes Sneakers For Men    20% off  \n",
       "98                                   Sneakers For Men    55% off  \n",
       "99                                 Sneakers For Women    60% off  \n",
       "\n",
       "[100 rows x 4 columns]"
      ]
     },
     "execution_count": 183,
     "metadata": {},
     "output_type": "execute_result"
    }
   ],
   "source": [
    "sneak"
   ]
  },
  {
   "cell_type": "code",
   "execution_count": 198,
   "id": "f11f9fac",
   "metadata": {},
   "outputs": [],
   "source": [
    "#answer 7\n",
    "driver=webdriver.Chrome(r\"C:\\Users\\hp\\Desktop\\chromedriver_win32\")"
   ]
  },
  {
   "cell_type": "code",
   "execution_count": 199,
   "id": "377078d6",
   "metadata": {},
   "outputs": [],
   "source": [
    "url=\"https://www.amazon.in/\"\n",
    "driver.get(url)"
   ]
  },
  {
   "cell_type": "code",
   "execution_count": 202,
   "id": "a5d5bbb0",
   "metadata": {},
   "outputs": [
    {
     "data": {
      "text/plain": [
       "<selenium.webdriver.remote.webelement.WebElement (session=\"b107412bdc38d1b6ac9e12a967ad3bbf\", element=\"3D0E5B702D3122994CBBD755152F0146_element_587\")>"
      ]
     },
     "execution_count": 202,
     "metadata": {},
     "output_type": "execute_result"
    }
   ],
   "source": [
    "search_g= driver.find_element(By.XPATH,'//input[@class=\"nav-input nav-progressive-attribute\"]')\n",
    "search_g"
   ]
  },
  {
   "cell_type": "code",
   "execution_count": 203,
   "id": "7164b593",
   "metadata": {},
   "outputs": [],
   "source": [
    "search_g.send_keys('Laptop')"
   ]
  },
  {
   "cell_type": "code",
   "execution_count": 204,
   "id": "9d8b7d88",
   "metadata": {},
   "outputs": [
    {
     "data": {
      "text/plain": [
       "<selenium.webdriver.remote.webelement.WebElement (session=\"b107412bdc38d1b6ac9e12a967ad3bbf\", element=\"3D0E5B702D3122994CBBD755152F0146_element_645\")>"
      ]
     },
     "execution_count": 204,
     "metadata": {},
     "output_type": "execute_result"
    }
   ],
   "source": [
    "search_btn=driver.find_element(By.XPATH,'//div[@class=\"nav-search-submit nav-sprite\"]')\n",
    "search_btn"
   ]
  },
  {
   "cell_type": "code",
   "execution_count": 205,
   "id": "9bd2c40f",
   "metadata": {},
   "outputs": [],
   "source": [
    "search_btn=driver.find_element(By.XPATH,'//div[@class=\"nav-search-submit nav-sprite\"]')\n",
    "search_btn.click()"
   ]
  },
  {
   "cell_type": "code",
   "execution_count": 206,
   "id": "ac613ed2",
   "metadata": {},
   "outputs": [],
   "source": [
    "Title=[]\n",
    "Price=[]\n",
    "Rating=[]"
   ]
  },
  {
   "cell_type": "code",
   "execution_count": 220,
   "id": "27c27cbf",
   "metadata": {},
   "outputs": [],
   "source": [
    "for i in range(3):\n",
    "    b_name=driver.find_elements(By.XPATH,'//span[@class=\"a-size-medium a-color-base a-text-normal\"]')\n",
    "    p_desc=driver.find_elements(By.XPATH,'//span[@class=\"a-price-whole\"]')\n",
    "    price =driver.find_elements(By.XPATH,'//i[@class=\"a-icon a-icon-star-small a-star-small-4-5 aok-align-bottom\"]')\n",
    "    \n",
    "    \n",
    "    for j  in b_name:\n",
    "        Title.append(j.text)\n",
    "    Title[:10]    \n",
    "    \n",
    "    \n",
    "    \n",
    "    for k in p_desc:\n",
    "        P_desc.append(k.text)\n",
    "    P_desc[:10] \n",
    "    \n",
    "    \n",
    "    for l in price:\n",
    "        Price.append(l.text)\n",
    "    Price[:10] \n",
    "    "
   ]
  },
  {
   "cell_type": "code",
   "execution_count": 221,
   "id": "aed44292",
   "metadata": {},
   "outputs": [
    {
     "name": "stdout",
     "output_type": "stream",
     "text": [
      "0\n",
      "10\n",
      "10\n"
     ]
    },
    {
     "data": {
      "text/plain": [
       "(None, None, None)"
      ]
     },
     "execution_count": 221,
     "metadata": {},
     "output_type": "execute_result"
    }
   ],
   "source": [
    "print(len(b_name[:10])),print(len(Price[:10])),print(len(P_desc[:10]))"
   ]
  },
  {
   "cell_type": "code",
   "execution_count": 222,
   "id": "019cf692",
   "metadata": {},
   "outputs": [],
   "source": [
    "lap=pd.DataFrame({})\n",
    "lap['Brand_name']=B_name[:10]\n",
    "lap['P_price']=Price[:10]\n",
    "lap['Pr_desc']=P_desc[:10]\n"
   ]
  },
  {
   "cell_type": "code",
   "execution_count": 215,
   "id": "b0d0d5bc",
   "metadata": {},
   "outputs": [
    {
     "data": {
      "text/html": [
       "<div>\n",
       "<style scoped>\n",
       "    .dataframe tbody tr th:only-of-type {\n",
       "        vertical-align: middle;\n",
       "    }\n",
       "\n",
       "    .dataframe tbody tr th {\n",
       "        vertical-align: top;\n",
       "    }\n",
       "\n",
       "    .dataframe thead th {\n",
       "        text-align: right;\n",
       "    }\n",
       "</style>\n",
       "<table border=\"1\" class=\"dataframe\">\n",
       "  <thead>\n",
       "    <tr style=\"text-align: right;\">\n",
       "      <th></th>\n",
       "      <th>Brand_name</th>\n",
       "      <th>P_price</th>\n",
       "      <th>Pr_desc</th>\n",
       "    </tr>\n",
       "  </thead>\n",
       "  <tbody>\n",
       "    <tr>\n",
       "      <th>0</th>\n",
       "      <td>Shozie</td>\n",
       "      <td></td>\n",
       "      <td>Stylish Sneakers Shoes for Women And Girls Sne...</td>\n",
       "    </tr>\n",
       "    <tr>\n",
       "      <th>1</th>\n",
       "      <td>BIRDE</td>\n",
       "      <td></td>\n",
       "      <td>Lightweight,Comfort,Summer,Trendy,Walking,Outd...</td>\n",
       "    </tr>\n",
       "    <tr>\n",
       "      <th>2</th>\n",
       "      <td>BIRDE</td>\n",
       "      <td></td>\n",
       "      <td>Megpar White New Stylish Look Comfortable Casu...</td>\n",
       "    </tr>\n",
       "    <tr>\n",
       "      <th>3</th>\n",
       "      <td>Layasa</td>\n",
       "      <td></td>\n",
       "      <td>Stylish Sneakers Shoes for Women And Girls Sne...</td>\n",
       "    </tr>\n",
       "    <tr>\n",
       "      <th>4</th>\n",
       "      <td>BIRDE</td>\n",
       "      <td></td>\n",
       "      <td>Lightweight,Comfort,Summer,Trendy,Walking,Outd...</td>\n",
       "    </tr>\n",
       "    <tr>\n",
       "      <th>5</th>\n",
       "      <td>aadi</td>\n",
       "      <td></td>\n",
       "      <td>Megpar White New Stylish Look Comfortable Casu...</td>\n",
       "    </tr>\n",
       "    <tr>\n",
       "      <th>6</th>\n",
       "      <td>BIRDE</td>\n",
       "      <td></td>\n",
       "      <td>Stylish Sneakers Shoes for Women And Girls Sne...</td>\n",
       "    </tr>\n",
       "    <tr>\n",
       "      <th>7</th>\n",
       "      <td>lejano</td>\n",
       "      <td></td>\n",
       "      <td>Lightweight,Comfort,Summer,Trendy,Walking,Outd...</td>\n",
       "    </tr>\n",
       "    <tr>\n",
       "      <th>8</th>\n",
       "      <td>Kraasa</td>\n",
       "      <td></td>\n",
       "      <td>Megpar White New Stylish Look Comfortable Casu...</td>\n",
       "    </tr>\n",
       "    <tr>\n",
       "      <th>9</th>\n",
       "      <td>Kraasa</td>\n",
       "      <td></td>\n",
       "      <td>Stylish Sneakers Shoes for Women And Girls Sne...</td>\n",
       "    </tr>\n",
       "  </tbody>\n",
       "</table>\n",
       "</div>"
      ],
      "text/plain": [
       "  Brand_name P_price                                            Pr_desc\n",
       "0     Shozie          Stylish Sneakers Shoes for Women And Girls Sne...\n",
       "1      BIRDE          Lightweight,Comfort,Summer,Trendy,Walking,Outd...\n",
       "2      BIRDE          Megpar White New Stylish Look Comfortable Casu...\n",
       "3     Layasa          Stylish Sneakers Shoes for Women And Girls Sne...\n",
       "4      BIRDE          Lightweight,Comfort,Summer,Trendy,Walking,Outd...\n",
       "5       aadi          Megpar White New Stylish Look Comfortable Casu...\n",
       "6      BIRDE          Stylish Sneakers Shoes for Women And Girls Sne...\n",
       "7     lejano          Lightweight,Comfort,Summer,Trendy,Walking,Outd...\n",
       "8     Kraasa          Megpar White New Stylish Look Comfortable Casu...\n",
       "9     Kraasa          Stylish Sneakers Shoes for Women And Girls Sne..."
      ]
     },
     "execution_count": 215,
     "metadata": {},
     "output_type": "execute_result"
    }
   ],
   "source": [
    "lap"
   ]
  },
  {
   "cell_type": "code",
   "execution_count": 231,
   "id": "80219281",
   "metadata": {},
   "outputs": [],
   "source": [
    "#Answer8\n",
    "driver=webdriver.Chrome(r\"C:\\Users\\hp\\Desktop\\chromedriver_win32\")"
   ]
  },
  {
   "cell_type": "code",
   "execution_count": 232,
   "id": "b5b6d585",
   "metadata": {},
   "outputs": [],
   "source": [
    "url=\"https://www.azquotes.com/\"\n",
    "driver.get(url)"
   ]
  },
  {
   "cell_type": "code",
   "execution_count": 233,
   "id": "a6f82fcc",
   "metadata": {},
   "outputs": [],
   "source": [
    "search_btn=driver.find_element(By.XPATH,'/html/body/div[1]/div[1]/div[1]/div/div[3]/ul/li[5]/a')\n",
    "search_btn.click()"
   ]
  },
  {
   "cell_type": "code",
   "execution_count": 240,
   "id": "06e9a2ef",
   "metadata": {},
   "outputs": [],
   "source": [
    "from selenium import webdriver\n",
    "from selenium.webdriver.common.by import By\n",
    "\n",
    "\n",
    "driver = webdriver.Chrome()\n",
    "driver.maximize_window()\n",
    "\n",
    "\n",
    "driver.get('https://www.azquotes.com/')\n",
    "\n",
    "\n",
    "top_quotes_button = driver.find_element(By.XPATH, '/html/body/div[1]/div[1]/div[1]/div/div[3]/ul/li[5]/a')\n",
    "top_quotes_button.click()\n",
    "\n",
    "\n",
    "driver.implicitly_wait(10)\n",
    "\n",
    "\n",
    "quotes = []\n",
    "authors = []\n",
    "types = []\n",
    "\n",
    "quote_tags = driver.find_elements(By.XPATH,'//div[@class=\"title\"]')\n",
    "for tag in quote_tags[:10]:\n",
    "    quote = tag.text.strip()\n",
    "    quotes.append(quote)\n",
    "    \n",
    "author_tags = driver.find_elements(By.XPATH,'//div[@class=\"author\"]' ) \n",
    "for tag in author_tags[:10]:\n",
    "    author = tag.text.strip()\n",
    "    authors.append(author)\n",
    "\n",
    "type_tags = driver.find_elements(By.XPATH,'//div[@class=\"tags\"]' )\n",
    "for tag in type_tags[:10]:\n",
    "    quote_type = tag.text.strip()\n",
    "    types.append(quote_type)\n",
    "\n",
    "\n",
    "for i in range(10):\n",
    "    print(f'{i+1}.  Quote: {quotes[i]}')\n",
    "    print(f'   Author: {authors[i]}')\n",
    "    print(f'   Type: {types[i]}')\n",
    "    print()\n",
    "\n",
    "\n",
    "driver.quit()\n"
   ]
  },
  {
   "cell_type": "code",
   "execution_count": 248,
   "id": "b3705f39",
   "metadata": {},
   "outputs": [],
   "source": [
    "\n"
   ]
  },
  {
   "cell_type": "code",
   "execution_count": 245,
   "id": "8b6a3d8f",
   "metadata": {},
   "outputs": [
    {
     "name": "stdout",
     "output_type": "stream",
     "text": [
      "0 20 35\n"
     ]
    }
   ],
   "source": []
  },
  {
   "cell_type": "code",
   "execution_count": null,
   "id": "7b36b293",
   "metadata": {},
   "outputs": [],
   "source": []
  },
  {
   "cell_type": "code",
   "execution_count": null,
   "id": "ad0db322",
   "metadata": {},
   "outputs": [],
   "source": []
  }
 ],
 "metadata": {
  "kernelspec": {
   "display_name": "Python 3 (ipykernel)",
   "language": "python",
   "name": "python3"
  },
  "language_info": {
   "codemirror_mode": {
    "name": "ipython",
    "version": 3
   },
   "file_extension": ".py",
   "mimetype": "text/x-python",
   "name": "python",
   "nbconvert_exporter": "python",
   "pygments_lexer": "ipython3",
   "version": "3.9.13"
  }
 },
 "nbformat": 4,
 "nbformat_minor": 5
}
