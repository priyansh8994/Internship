{
 "cells": [
  {
   "cell_type": "code",
   "execution_count": 1,
   "id": "47128527",
   "metadata": {},
   "outputs": [],
   "source": [
    "import numpy as np"
   ]
  },
  {
   "cell_type": "code",
   "execution_count": 3,
   "id": "f67bc5db",
   "metadata": {},
   "outputs": [
    {
     "name": "stdout",
     "output_type": "stream",
     "text": [
      "ENTER THE LENGTH OF SIDE A:-7\n",
      "ENTER THE LENGTH OF SIDE B:-9\n",
      "THE LENGTH OF THE THIRD SIDE IS:- 11.4\n"
     ]
    }
   ],
   "source": [
    "a = int(input(\"ENTER THE LENGTH OF SIDE A:-\"))\n",
    "b = int(input(\"ENTER THE LENGTH OF SIDE B:-\"))\n",
    "c = np.sqrt(a ** 2 + b ** 2)\n",
    "print(\"THE LENGTH OF THE THIRD SIDE IS:-\", round(c,2))"
   ]
  },
  {
   "cell_type": "code",
   "execution_count": null,
   "id": "2427694a",
   "metadata": {},
   "outputs": [],
   "source": []
  }
 ],
 "metadata": {
  "kernelspec": {
   "display_name": "Python 3 (ipykernel)",
   "language": "python",
   "name": "python3"
  },
  "language_info": {
   "codemirror_mode": {
    "name": "ipython",
    "version": 3
   },
   "file_extension": ".py",
   "mimetype": "text/x-python",
   "name": "python",
   "nbconvert_exporter": "python",
   "pygments_lexer": "ipython3",
   "version": "3.9.12"
  }
 },
 "nbformat": 4,
 "nbformat_minor": 5
}
