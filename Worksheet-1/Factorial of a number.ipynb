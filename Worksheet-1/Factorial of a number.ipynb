{
 "cells": [
  {
   "cell_type": "code",
   "execution_count": 5,
   "id": "a9c6449d",
   "metadata": {},
   "outputs": [
    {
     "name": "stdout",
     "output_type": "stream",
     "text": [
      "ENTER A NUMBER: 5\n",
      "THE FACTORIAL OF 5 is 120\n"
     ]
    }
   ],
   "source": [
    "num = int(input(\"ENTER A NUMBER: \"))\n",
    "factorial = 1\n",
    "for i in range(1, num + 1):\n",
    "    factorial *= i\n",
    "factorial_rounded = round(factorial, 2)\n",
    "print(\"THE FACTORIAL OF\" , num, \"is\", factorial_rounded)"
   ]
  },
  {
   "cell_type": "code",
   "execution_count": null,
   "id": "96e5f0c1",
   "metadata": {},
   "outputs": [],
   "source": []
  }
 ],
 "metadata": {
  "kernelspec": {
   "display_name": "Python 3 (ipykernel)",
   "language": "python",
   "name": "python3"
  },
  "language_info": {
   "codemirror_mode": {
    "name": "ipython",
    "version": 3
   },
   "file_extension": ".py",
   "mimetype": "text/x-python",
   "name": "python",
   "nbconvert_exporter": "python",
   "pygments_lexer": "ipython3",
   "version": "3.9.12"
  }
 },
 "nbformat": 4,
 "nbformat_minor": 5
}
