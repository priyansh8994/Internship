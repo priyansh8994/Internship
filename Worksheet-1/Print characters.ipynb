#!/usr/bin/env python
# coding: utf-8

# In[ ]:


string = input("Enter a string: ")

# Create an empty dictionary to store the frequency of each character
freq_dict = {}

# Iterate over each character in the string
for char in string:
    # If the character is already present in the dictionary, increment its count
    if char in freq_dict:
        freq_dict[char] += 1
    # Otherwise, add the character to the dictionary with a count of 1
    else:
        freq_dict[char] = 1

# Print the frequency of each character
for char, count in freq_dict.items():
    print(char, count)

