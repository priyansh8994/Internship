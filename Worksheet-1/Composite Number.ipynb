{
 "cells": [
  {
   "cell_type": "code",
   "execution_count": 11,
   "id": "0bc8b3b8",
   "metadata": {},
   "outputs": [
    {
     "name": "stdout",
     "output_type": "stream",
     "text": [
      "ENTER A NUMBER: 7\n",
      "7 is a prime number\n"
     ]
    }
   ],
   "source": [
    "composite_num = int(input(\"ENTER A NUMBER: \"))\n",
    "if composite_num > 1:\n",
    "    for i in range(2, composite_num):\n",
    "        if (composite_num % i == 0):\n",
    "            print(composite_num, \"is a composite number\")\n",
    "            break\n",
    "    else:\n",
    "        print(composite_num, \"is a prime number\")\n",
    "else:\n",
    "    print(composite_num, \"is neither prime nor composite\")"
   ]
  },
  {
   "cell_type": "code",
   "execution_count": null,
   "id": "3855a058",
   "metadata": {},
   "outputs": [],
   "source": []
  }
 ],
 "metadata": {
  "kernelspec": {
   "display_name": "Python 3 (ipykernel)",
   "language": "python",
   "name": "python3"
  },
  "language_info": {
   "codemirror_mode": {
    "name": "ipython",
    "version": 3
   },
   "file_extension": ".py",
   "mimetype": "text/x-python",
   "name": "python",
   "nbconvert_exporter": "python",
   "pygments_lexer": "ipython3",
   "version": "3.9.12"
  }
 },
 "nbformat": 4,
 "nbformat_minor": 5
}
